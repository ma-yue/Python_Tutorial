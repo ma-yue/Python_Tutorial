{
 "cells": [
  {
   "cell_type": "markdown",
   "metadata": {
    "collapsed": true
   },
   "source": [
    "# Jupyter Notebook Introduction"
   ]
  },
  {
   "cell_type": "markdown",
   "metadata": {},
   "source": [
    "This file provides a quick introduction on the effective use of Anaconda and notebook."
   ]
  },
  {
   "cell_type": "markdown",
   "metadata": {},
   "source": [
    "### Conda commands\n",
    "\n",
    "[Anaconda](https://store.continuum.io/cshop/anaconda/) is a scientific python distribution containing Python, NumPy, Pandas, IPython, Matplotlib and other great Python data analysis tools. Below is a list of most widely used conda commands. To see the full list, please refer to the official website: https://conda.io/docs/commands.html."
   ]
  },
  {
   "cell_type": "code",
   "execution_count": null,
   "metadata": {},
   "outputs": [],
   "source": [
    "# You can try all the commends below in terinal without '!'. In other words, you can run terminal commands in Notebook with '!' in front\n",
    "\n",
    "# See Anaconda installed packages\n",
    "# !conda list\n",
    "\n",
    "# Update Anaconda\n",
    "# !conda update conda\n",
    "\n",
    "# Update a package, e.g. scipy\n",
    "# !conda update scipy\n",
    "\n",
    "# Update all packages\n",
    "# !conda update all\n",
    "\n",
    "# Install specific version of a package\n",
    "# !conda install scipy"
   ]
  },
  {
   "cell_type": "markdown",
   "metadata": {},
   "source": [
    "### Use Notebook\n",
    "\n",
    "[Jupyter Notebook](http://jupyter.org) is a web-based interactive computational environment where you can combine code execution, text, mathematics, plots and rich media into a single document."
   ]
  },
  {
   "cell_type": "code",
   "execution_count": null,
   "metadata": {
    "collapsed": true
   },
   "outputs": [],
   "source": [
    "# Start Notebook\n",
    "jupyter notebook\n",
    "\n",
    "# Load the contents of a file\n",
    "%load dir/file.py\n",
    "\n",
    "# Time execution of a Python statement or expression\n",
    "%timeit\n",
    "%%time\n",
    "\n",
    "# Activate the interactive debugger\n",
    "%debug\n",
    "\n",
    "# Write the contents of the cell to a file\n",
    "%writefile\n",
    "\n",
    "# Run a cell via a shell command\n",
    "%%script\n",
    "\n",
    "# Run cells with bash in a subprocess\n",
    "# This is a shortcut for %%script bash\n",
    "%%bash\n",
    "\n",
    "# Run cells with python2 in a subprocess\n",
    "%%python2\n",
    "\n",
    "# Run cells with python3 in a subprocess\n",
    "%%python3\n",
    "\n",
    "# Convert a notebook to a basic HTML file \n",
    "!ipython nbconvert --to html --template basic file.ipynb "
   ]
  },
  {
   "cell_type": "markdown",
   "metadata": {},
   "source": [
    "### Markdown Introduction"
   ]
  },
  {
   "cell_type": "code",
   "execution_count": 3,
   "metadata": {},
   "outputs": [
    {
     "name": "stdout",
     "output_type": "stream",
     "text": [
      "Python 3.6.1 :: Anaconda custom (x86_64)\r\n"
     ]
    }
   ],
   "source": [
    "!python --version"
   ]
  },
  {
   "cell_type": "code",
   "execution_count": 5,
   "metadata": {},
   "outputs": [
    {
     "name": "stdout",
     "output_type": "stream",
     "text": [
      "Hello, Python!\n"
     ]
    }
   ],
   "source": [
    "print('Hello, Python!')"
   ]
  },
  {
   "cell_type": "markdown",
   "metadata": {},
   "source": [
    "### Shortcuts\n",
    "\n",
    "The most useful shortcuts."
   ]
  },
  {
   "cell_type": "markdown",
   "metadata": {},
   "source": [
    "http://jupyter-notebook-beginner-guide.readthedocs.io/en/latest/what_is_jupyter.html#references"
   ]
  },
  {
   "cell_type": "markdown",
   "metadata": {},
   "source": [
    "### Formulas"
   ]
  },
  {
   "cell_type": "markdown",
   "metadata": {},
   "source": [
    "http://jupyter-notebook.readthedocs.io/en/stable/examples/Notebook/Typesetting%20Equations.html"
   ]
  },
  {
   "cell_type": "markdown",
   "metadata": {},
   "source": [
    "### Using magics"
   ]
  },
  {
   "cell_type": "markdown",
   "metadata": {},
   "source": [
    "http://jupyter-notebook.readthedocs.io/en/stable/examples/Notebook/JavaScript%20Notebook%20Extensions.html?highlight=magic"
   ]
  },
  {
   "cell_type": "code",
   "execution_count": null,
   "metadata": {
    "collapsed": true
   },
   "outputs": [],
   "source": []
  }
 ],
 "metadata": {
  "kernelspec": {
   "display_name": "Python 3",
   "language": "python",
   "name": "python3"
  },
  "language_info": {
   "codemirror_mode": {
    "name": "ipython",
    "version": 3
   },
   "file_extension": ".py",
   "mimetype": "text/x-python",
   "name": "python",
   "nbconvert_exporter": "python",
   "pygments_lexer": "ipython3",
   "version": "3.6.1"
  }
 },
 "nbformat": 4,
 "nbformat_minor": 2
}
