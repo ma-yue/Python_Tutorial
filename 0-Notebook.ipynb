{
 "cells": [
  {
   "cell_type": "markdown",
   "metadata": {
    "collapsed": true
   },
   "source": [
    "# Jupyter Notebook Introduction"
   ]
  },
  {
   "cell_type": "markdown",
   "metadata": {},
   "source": [
    "This file provides a quick introduction on the effective use of Anaconda and notebook."
   ]
  },
  {
   "cell_type": "markdown",
   "metadata": {},
   "source": [
    "## 1. Conda commands\n",
    "\n",
    "[Anaconda](https://store.continuum.io/cshop/anaconda/) is a scientific python distribution containing Python, NumPy, Pandas, IPython, Matplotlib and other great Python data analysis tools. Below is a list of most widely used conda commands. To see the full list, please refer to the official website: https://conda.io/docs/commands.html."
   ]
  },
  {
   "cell_type": "markdown",
   "metadata": {},
   "source": [
    "You can try all the commends below in terinal without '!'. \n",
    "In other words, you can run terminal commands in Notebook with '!' in front.\n",
    "This __magic__ will be introduced in sections below."
   ]
  },
  {
   "cell_type": "code",
   "execution_count": null,
   "metadata": {},
   "outputs": [],
   "source": [
    "# See Anaconda installed packages\n",
    "# !conda list\n",
    "\n",
    "# check conda version\n",
    "# !conda --version\n",
    "\n",
    "# Update Anaconda\n",
    "# !conda update conda\n",
    "\n",
    "# Update a package, e.g. scipy\n",
    "# !conda update scipy\n",
    "\n",
    "# Update all packages\n",
    "# !conda update all\n",
    "\n",
    "# Install specific version of a package\n",
    "# !conda install scipy"
   ]
  },
  {
   "cell_type": "markdown",
   "metadata": {},
   "source": [
    "## 2. Use Notebook\n",
    "\n",
    "[Jupyter Notebook](http://jupyter.org) is a web-based interactive computational environment where you can combine code execution, text, mathematics, plots and rich media into a single document. Below we introduce some of the most important methods to use notebook to improve efficiency. [Here](https://www.dataquest.io/blog/jupyter-notebook-tips-tricks-shortcuts/) is more information about the notebook tips."
   ]
  },
  {
   "cell_type": "markdown",
   "metadata": {},
   "source": [
    "### 2.1 Markdown Introduction"
   ]
  },
  {
   "cell_type": "markdown",
   "metadata": {},
   "source": [
    "[This post](https://github.com/adam-p/markdown-here/wiki/Markdown-Cheatsheet) is my favourite Markdown cheetsheet. Please take a minite to go thourgh it."
   ]
  },
  {
   "cell_type": "markdown",
   "metadata": {},
   "source": [
    "### 2.2 Notebook Shortcuts\n",
    "\n",
    "You can find the complete list of notebook shortcuts by pressing `H` in command mode (more on this later) or `cmd + shift + P`.\n",
    "\n",
    "Below are the most useful shortcuts."
   ]
  },
  {
   "cell_type": "markdown",
   "metadata": {},
   "source": [
    "* `Esc` will take you into __command mode__ where you can navigate around your notebook with arrow keys.\n",
    "\n",
    "* `Enter` will take you from command mode back into __edit mode__ for the given cell.\n",
    "\n",
    "* While in command mode:\n",
    "    * `A` to insert a new cell above the current cell, `B` to insert a new cell below.\n",
    "    * `M` to change the current cell to Markdown, `Y` to change it back to code. \n",
    "    * `DD` (press the key twice) to delete the current cell.\n",
    "\n",
    "* `Shift + Tab` will show you the Docstring (documentation) for the the object you have just typed in a code cell - you can keep pressing this short cut to cycle through a few modes of documentation.\n",
    "\n",
    "* `Ctrl + Shift + -` will split the current cell into two from where your cursor is.\n",
    "\n",
    "* `Esc + F` will find and replace on your code but not the outputs.\n",
    "\n",
    "* `Esc + O` will toggle cell output.\n",
    "\n",
    "* Select Multiple Cells:\n",
    "    * `Shift + J` or `Shift + Down` selects the next sell in a downwards direction. You can also select sells in an upwards direction by using `Shift + K` or `Shift + Up`.\n",
    "    * Once cells are selected, you can then delete / copy / cut / paste / run them as a batch. This is helpful when you need to move parts of a notebook.\n",
    "    * You can also use `Shift + M` to merge multiple cells."
   ]
  },
  {
   "cell_type": "markdown",
   "metadata": {},
   "source": [
    "### 2.3 Writing Formulas in Notebook"
   ]
  },
  {
   "cell_type": "markdown",
   "metadata": {},
   "source": [
    "#### Cauchy-Schwarz Inequality\n",
    "\n",
    "\\begin{equation*}\n",
    "    \\left( \\sum_{k=1}^n a_k b_k \\right)^2 \\leq \\left( \\sum_{k=1}^n a_k^2 \\right) \\left( \\sum_{k=1}^n b_k^2 \\right)\n",
    "\\end{equation*}"
   ]
  },
  {
   "cell_type": "markdown",
   "metadata": {},
   "source": [
    "#### Maxwell's Equation\n",
    "\n",
    "\\begin{align}\n",
    "    \\nabla \\times \\vec{\\mathbf{B}} -\\, \\frac1c\\, \\frac{\\partial\\vec{\\mathbf{E}}}{\\partial t} & = \\frac{4\\pi}{c}\\vec{\\mathbf{j}} \\\\   \n",
    "    \\nabla \\cdot \\vec{\\mathbf{E}} & = 4 \\pi \\rho \\\\\n",
    "    \\nabla \\times \\vec{\\mathbf{E}}\\, +\\, \\frac1c\\, \\frac{\\partial\\vec{\\mathbf{B}}}{\\partial t} & = \\vec{\\mathbf{0}} \\\\\n",
    "    \\nabla \\cdot \\vec{\\mathbf{B}} & = 0\n",
    "\\end{align}"
   ]
  },
  {
   "cell_type": "markdown",
   "metadata": {},
   "source": [
    "#### Coordinate Transformation"
   ]
  },
  {
   "cell_type": "markdown",
   "metadata": {},
   "source": [
    "$$\\begin{eqnarray}\n",
    "    x' &=& &x \\sin\\phi &+& z \\cos\\phi \\\\\n",
    "    z' &=& - &x \\cos\\phi &+& z \\sin\\phi \\\\\n",
    "\\end{eqnarray}$$"
   ]
  },
  {
   "cell_type": "markdown",
   "metadata": {},
   "source": [
    "You can find more examples [here](http://jupyter-notebook.readthedocs.io/en/stable/examples/Notebook/Typesetting%20Equations.html)."
   ]
  },
  {
   "cell_type": "markdown",
   "metadata": {},
   "source": [
    "### 2.4 Using Magics in Notebook"
   ]
  },
  {
   "cell_type": "markdown",
   "metadata": {},
   "source": [
    "[The documentation for all IPython Magic commands](http://ipython.readthedocs.io/en/stable/interactive/magics.html) is highly recommended."
   ]
  },
  {
   "cell_type": "code",
   "execution_count": null,
   "metadata": {},
   "outputs": [],
   "source": [
    "# This will list all magic commands\n",
    "%lsmagic"
   ]
  },
  {
   "cell_type": "code",
   "execution_count": null,
   "metadata": {},
   "outputs": [],
   "source": [
    "# Running %env without any arguments\n",
    "# lists all environment variables\n",
    "\n",
    "# The line below sets the environment\n",
    "# variable OMP_NUM_THREADS\n",
    "%env OMP_NUM_THREADS=4"
   ]
  },
  {
   "cell_type": "code",
   "execution_count": null,
   "metadata": {},
   "outputs": [],
   "source": [
    "# this will execute and show the output from\n",
    "# all code cells of the specified notebook or py file\n",
    "%run ./Udacity-CS101/add_to_index.py"
   ]
  },
  {
   "cell_type": "code",
   "execution_count": null,
   "metadata": {},
   "outputs": [],
   "source": [
    "# List all variables of global scope.\n",
    "one = \"for the money\"\n",
    "two = \"for the show\"\n",
    "three = \"to get ready now go cat go\" \n",
    "%who str"
   ]
  },
  {
   "cell_type": "code",
   "execution_count": null,
   "metadata": {},
   "outputs": [],
   "source": [
    "# Insert the code from an external script\n",
    "\n",
    "# Before Running\n",
    "# %load ./Udacity-CS101/add_to_index.py\n",
    "\n",
    "# After Running\n",
    "# %load ./hello_world.py\n",
    "# if __name__ == \"__main__\":\n",
    "# \tprint(\"Hello World!\")"
   ]
  },
  {
   "cell_type": "code",
   "execution_count": null,
   "metadata": {},
   "outputs": [],
   "source": [
    "# %%timeit uses the Python timeit module which runs a statement 100,000 times (by default)\n",
    "# and then provides the mean of the fastest three times.\n",
    "import numpy\n",
    "%timeit numpy.random.normal(size=100)"
   ]
  },
  {
   "cell_type": "code",
   "execution_count": null,
   "metadata": {
    "collapsed": true
   },
   "outputs": [],
   "source": [
    "# Show the contents of an external script\n",
    "%pycat ./Udacity-CS101/add_to_index.py"
   ]
  }
 ],
 "metadata": {
  "kernelspec": {
   "display_name": "Python 3",
   "language": "python",
   "name": "python3"
  },
  "language_info": {
   "codemirror_mode": {
    "name": "ipython",
    "version": 3
   },
   "file_extension": ".py",
   "mimetype": "text/x-python",
   "name": "python",
   "nbconvert_exporter": "python",
   "pygments_lexer": "ipython3",
   "version": "3.6.1"
  }
 },
 "nbformat": 4,
 "nbformat_minor": 2
}
